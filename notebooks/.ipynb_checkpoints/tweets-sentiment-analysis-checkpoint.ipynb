{
 "cells": [
  {
   "cell_type": "code",
   "execution_count": 1,
   "metadata": {
    "_cell_guid": "b1076dfc-b9ad-4769-8c92-a6c4dae69d19",
    "_uuid": "8f2839f25d086af736a60e9eeb907d3b93b6e0e5",
    "execution": {
     "iopub.execute_input": "2022-01-04T19:15:04.000287Z",
     "iopub.status.busy": "2022-01-04T19:15:03.999669Z",
     "iopub.status.idle": "2022-01-04T19:15:04.022721Z",
     "shell.execute_reply": "2022-01-04T19:15:04.021985Z",
     "shell.execute_reply.started": "2022-01-04T19:15:04.000185Z"
    }
   },
   "outputs": [],
   "source": [
    "# This Python 3 environment comes with many helpful analytics libraries installed\n",
    "# It is defined by the kaggle/python Docker image: https://github.com/kaggle/docker-python\n",
    "# For example, here's several helpful packages to load\n",
    "\n",
    "import numpy as np # linear algebra\n",
    "import pandas as pd # data processing, CSV file I/O (e.g. pd.read_csv)\n",
    "\n",
    "# Input data files are available in the read-only \"../input/\" directory\n",
    "# For example, running this (by clicking run or pressing Shift+Enter) will list all files under the input directory\n",
    "\n",
    "import os\n",
    "for dirname, _, filenames in os.walk('/kaggle/input'):\n",
    "    for filename in filenames:\n",
    "        print(os.path.join(dirname, filename))\n",
    "\n",
    "# You can write up to 20GB to the current directory (/kaggle/working/) that gets preserved as output when you create a version using \"Save & Run All\" \n",
    "# You can also write temporary files to /kaggle/temp/, but they won't be saved outside of the current session"
   ]
  },
  {
   "cell_type": "code",
   "execution_count": 5,
   "metadata": {
    "execution": {
     "iopub.execute_input": "2022-01-04T19:15:04.594420Z",
     "iopub.status.busy": "2022-01-04T19:15:04.593999Z",
     "iopub.status.idle": "2022-01-04T19:15:04.598692Z",
     "shell.execute_reply": "2022-01-04T19:15:04.597675Z",
     "shell.execute_reply.started": "2022-01-04T19:15:04.594383Z"
    }
   },
   "outputs": [],
   "source": [
    "twitter_path=\"C:/Users/Fakeha Rahman/Desktop/Sentiment Analysis/data/Twitter_Sentiment_Analysis/train.csv\"\n",
    "hate_speech_path=\"C:/Users/Fakeha Rahman/Desktop/Sentiment Analysis/data/Hate_Speech_and_Offensive_Language_Dataset/labeled_data.csv\""
   ]
  },
  {
   "cell_type": "code",
   "execution_count": 6,
   "metadata": {
    "execution": {
     "iopub.execute_input": "2022-01-04T19:15:04.620549Z",
     "iopub.status.busy": "2022-01-04T19:15:04.620347Z",
     "iopub.status.idle": "2022-01-04T19:15:04.824449Z",
     "shell.execute_reply": "2022-01-04T19:15:04.823722Z",
     "shell.execute_reply.started": "2022-01-04T19:15:04.620527Z"
    }
   },
   "outputs": [],
   "source": [
    "twitter_df=pd.read_csv(twitter_path)\n",
    "hate_df=pd.read_csv(hate_speech_path)"
   ]
  },
  {
   "cell_type": "code",
   "execution_count": 7,
   "metadata": {
    "execution": {
     "iopub.execute_input": "2022-01-04T19:15:04.827330Z",
     "iopub.status.busy": "2022-01-04T19:15:04.826907Z",
     "iopub.status.idle": "2022-01-04T19:15:04.851602Z",
     "shell.execute_reply": "2022-01-04T19:15:04.850845Z",
     "shell.execute_reply.started": "2022-01-04T19:15:04.827291Z"
    }
   },
   "outputs": [
    {
     "data": {
      "text/html": [
       "<div>\n",
       "<style scoped>\n",
       "    .dataframe tbody tr th:only-of-type {\n",
       "        vertical-align: middle;\n",
       "    }\n",
       "\n",
       "    .dataframe tbody tr th {\n",
       "        vertical-align: top;\n",
       "    }\n",
       "\n",
       "    .dataframe thead th {\n",
       "        text-align: right;\n",
       "    }\n",
       "</style>\n",
       "<table border=\"1\" class=\"dataframe\">\n",
       "  <thead>\n",
       "    <tr style=\"text-align: right;\">\n",
       "      <th></th>\n",
       "      <th>id</th>\n",
       "      <th>label</th>\n",
       "      <th>tweet</th>\n",
       "    </tr>\n",
       "  </thead>\n",
       "  <tbody>\n",
       "    <tr>\n",
       "      <th>0</th>\n",
       "      <td>1</td>\n",
       "      <td>0</td>\n",
       "      <td>@user when a father is dysfunctional and is s...</td>\n",
       "    </tr>\n",
       "    <tr>\n",
       "      <th>1</th>\n",
       "      <td>2</td>\n",
       "      <td>0</td>\n",
       "      <td>@user @user thanks for #lyft credit i can't us...</td>\n",
       "    </tr>\n",
       "    <tr>\n",
       "      <th>2</th>\n",
       "      <td>3</td>\n",
       "      <td>0</td>\n",
       "      <td>bihday your majesty</td>\n",
       "    </tr>\n",
       "    <tr>\n",
       "      <th>3</th>\n",
       "      <td>4</td>\n",
       "      <td>0</td>\n",
       "      <td>#model   i love u take with u all the time in ...</td>\n",
       "    </tr>\n",
       "    <tr>\n",
       "      <th>4</th>\n",
       "      <td>5</td>\n",
       "      <td>0</td>\n",
       "      <td>factsguide: society now    #motivation</td>\n",
       "    </tr>\n",
       "  </tbody>\n",
       "</table>\n",
       "</div>"
      ],
      "text/plain": [
       "   id  label                                              tweet\n",
       "0   1      0   @user when a father is dysfunctional and is s...\n",
       "1   2      0  @user @user thanks for #lyft credit i can't us...\n",
       "2   3      0                                bihday your majesty\n",
       "3   4      0  #model   i love u take with u all the time in ...\n",
       "4   5      0             factsguide: society now    #motivation"
      ]
     },
     "execution_count": 7,
     "metadata": {},
     "output_type": "execute_result"
    }
   ],
   "source": [
    "twitter_df.head()\n"
   ]
  },
  {
   "cell_type": "code",
   "execution_count": 8,
   "metadata": {
    "execution": {
     "iopub.execute_input": "2022-01-04T19:15:04.853186Z",
     "iopub.status.busy": "2022-01-04T19:15:04.852841Z",
     "iopub.status.idle": "2022-01-04T19:15:04.865732Z",
     "shell.execute_reply": "2022-01-04T19:15:04.865029Z",
     "shell.execute_reply.started": "2022-01-04T19:15:04.853149Z"
    }
   },
   "outputs": [
    {
     "data": {
      "text/plain": [
       "array([0, 1], dtype=int64)"
      ]
     },
     "execution_count": 8,
     "metadata": {},
     "output_type": "execute_result"
    }
   ],
   "source": [
    "twitter_df[\"label\"].unique()"
   ]
  },
  {
   "cell_type": "code",
   "execution_count": 9,
   "metadata": {
    "execution": {
     "iopub.execute_input": "2022-01-04T19:15:04.868882Z",
     "iopub.status.busy": "2022-01-04T19:15:04.868170Z",
     "iopub.status.idle": "2022-01-04T19:15:04.876395Z",
     "shell.execute_reply": "2022-01-04T19:15:04.875578Z",
     "shell.execute_reply.started": "2022-01-04T19:15:04.868848Z"
    }
   },
   "outputs": [],
   "source": [
    "twitter_df.drop(\"id\", axis=1, inplace=True)"
   ]
  },
  {
   "cell_type": "code",
   "execution_count": 10,
   "metadata": {
    "execution": {
     "iopub.execute_input": "2022-01-04T19:15:04.878374Z",
     "iopub.status.busy": "2022-01-04T19:15:04.877958Z",
     "iopub.status.idle": "2022-01-04T19:15:05.311413Z",
     "shell.execute_reply": "2022-01-04T19:15:05.310661Z",
     "shell.execute_reply.started": "2022-01-04T19:15:04.878339Z"
    }
   },
   "outputs": [
    {
     "name": "stderr",
     "output_type": "stream",
     "text": [
      "C:\\Users\\Fakeha Rahman\\anaconda3\\lib\\site-packages\\seaborn\\_decorators.py:36: FutureWarning: Pass the following variable as a keyword arg: x. From version 0.12, the only valid positional argument will be `data`, and passing other arguments without an explicit keyword will result in an error or misinterpretation.\n",
      "  warnings.warn(\n"
     ]
    },
    {
     "data": {
      "text/plain": [
       "<AxesSubplot:xlabel='label', ylabel='count'>"
      ]
     },
     "execution_count": 10,
     "metadata": {},
     "output_type": "execute_result"
    },
    {
     "data": {
      "image/png": "[encoded data removed]",
      "text/plain": [
       "<Figure size 432x288 with 1 Axes>"
      ]
     },
     "metadata": {
      "needs_background": "light"
     },
     "output_type": "display_data"
    }
   ],
   "source": [
    "import seaborn as sns\n",
    "sns.countplot('label',data=twitter_df)"
   ]
  },
  {
   "cell_type": "code",
   "execution_count": 11,
   "metadata": {
    "execution": {
     "iopub.execute_input": "2022-01-04T19:15:05.313703Z",
     "iopub.status.busy": "2022-01-04T19:15:05.313318Z",
     "iopub.status.idle": "2022-01-04T19:15:05.325454Z",
     "shell.execute_reply": "2022-01-04T19:15:05.324687Z",
     "shell.execute_reply.started": "2022-01-04T19:15:05.313666Z"
    }
   },
   "outputs": [
    {
     "data": {
      "text/html": [
       "<div>\n",
       "<style scoped>\n",
       "    .dataframe tbody tr th:only-of-type {\n",
       "        vertical-align: middle;\n",
       "    }\n",
       "\n",
       "    .dataframe tbody tr th {\n",
       "        vertical-align: top;\n",
       "    }\n",
       "\n",
       "    .dataframe thead th {\n",
       "        text-align: right;\n",
       "    }\n",
       "</style>\n",
       "<table border=\"1\" class=\"dataframe\">\n",
       "  <thead>\n",
       "    <tr style=\"text-align: right;\">\n",
       "      <th></th>\n",
       "      <th>Unnamed: 0</th>\n",
       "      <th>count</th>\n",
       "      <th>hate_speech</th>\n",
       "      <th>offensive_language</th>\n",
       "      <th>neither</th>\n",
       "      <th>class</th>\n",
       "      <th>tweet</th>\n",
       "    </tr>\n",
       "  </thead>\n",
       "  <tbody>\n",
       "    <tr>\n",
       "      <th>0</th>\n",
       "      <td>0</td>\n",
       "      <td>3</td>\n",
       "      <td>0</td>\n",
       "      <td>0</td>\n",
       "      <td>3</td>\n",
       "      <td>2</td>\n",
       "      <td>!!! RT @mayasolovely: As a woman you shouldn't...</td>\n",
       "    </tr>\n",
       "    <tr>\n",
       "      <th>1</th>\n",
       "      <td>1</td>\n",
       "      <td>3</td>\n",
       "      <td>0</td>\n",
       "      <td>3</td>\n",
       "      <td>0</td>\n",
       "      <td>1</td>\n",
       "      <td>!!!!! RT @mleew17: boy dats cold...tyga dwn ba...</td>\n",
       "    </tr>\n",
       "    <tr>\n",
       "      <th>2</th>\n",
       "      <td>2</td>\n",
       "      <td>3</td>\n",
       "      <td>0</td>\n",
       "      <td>3</td>\n",
       "      <td>0</td>\n",
       "      <td>1</td>\n",
       "      <td>!!!!!!! RT @UrKindOfBrand Dawg!!!! RT @80sbaby...</td>\n",
       "    </tr>\n",
       "    <tr>\n",
       "      <th>3</th>\n",
       "      <td>3</td>\n",
       "      <td>3</td>\n",
       "      <td>0</td>\n",
       "      <td>2</td>\n",
       "      <td>1</td>\n",
       "      <td>1</td>\n",
       "      <td>!!!!!!!!! RT @C_G_Anderson: @viva_based she lo...</td>\n",
       "    </tr>\n",
       "    <tr>\n",
       "      <th>4</th>\n",
       "      <td>4</td>\n",
       "      <td>6</td>\n",
       "      <td>0</td>\n",
       "      <td>6</td>\n",
       "      <td>0</td>\n",
       "      <td>1</td>\n",
       "      <td>!!!!!!!!!!!!! RT @ShenikaRoberts: The shit you...</td>\n",
       "    </tr>\n",
       "  </tbody>\n",
       "</table>\n",
       "</div>"
      ],
      "text/plain": [
       "   Unnamed: 0  count  hate_speech  offensive_language  neither  class  \\\n",
       "0           0      3            0                   0        3      2   \n",
       "1           1      3            0                   3        0      1   \n",
       "2           2      3            0                   3        0      1   \n",
       "3           3      3            0                   2        1      1   \n",
       "4           4      6            0                   6        0      1   \n",
       "\n",
       "                                               tweet  \n",
       "0  !!! RT @mayasolovely: As a woman you shouldn't...  \n",
       "1  !!!!! RT @mleew17: boy dats cold...tyga dwn ba...  \n",
       "2  !!!!!!! RT @UrKindOfBrand Dawg!!!! RT @80sbaby...  \n",
       "3  !!!!!!!!! RT @C_G_Anderson: @viva_based she lo...  \n",
       "4  !!!!!!!!!!!!! RT @ShenikaRoberts: The shit you...  "
      ]
     },
     "execution_count": 11,
     "metadata": {},
     "output_type": "execute_result"
    }
   ],
   "source": [
    "hate_df.head()"
   ]
  },
  {
   "cell_type": "code",
   "execution_count": 12,
   "metadata": {
    "execution": {
     "iopub.execute_input": "2022-01-04T19:15:05.327299Z",
     "iopub.status.busy": "2022-01-04T19:15:05.326742Z",
     "iopub.status.idle": "2022-01-04T19:15:05.336373Z",
     "shell.execute_reply": "2022-01-04T19:15:05.335629Z",
     "shell.execute_reply.started": "2022-01-04T19:15:05.327263Z"
    }
   },
   "outputs": [],
   "source": [
    "hate_df.drop([\"Unnamed: 0\",\"count\",  \"hate_speech\", \"offensive_language\", \"neither\"], axis=1, inplace=True)"
   ]
  },
  {
   "cell_type": "code",
   "execution_count": 13,
   "metadata": {
    "execution": {
     "iopub.execute_input": "2022-01-04T19:15:05.338367Z",
     "iopub.status.busy": "2022-01-04T19:15:05.337570Z",
     "iopub.status.idle": "2022-01-04T19:15:05.545438Z",
     "shell.execute_reply": "2022-01-04T19:15:05.544707Z",
     "shell.execute_reply.started": "2022-01-04T19:15:05.338333Z"
    }
   },
   "outputs": [
    {
     "name": "stderr",
     "output_type": "stream",
     "text": [
      "C:\\Users\\Fakeha Rahman\\anaconda3\\lib\\site-packages\\seaborn\\_decorators.py:36: FutureWarning: Pass the following variable as a keyword arg: x. From version 0.12, the only valid positional argument will be `data`, and passing other arguments without an explicit keyword will result in an error or misinterpretation.\n",
      "  warnings.warn(\n"
     ]
    },
    {
     "data": {
      "text/plain": [
       "<AxesSubplot:xlabel='class', ylabel='count'>"
      ]
     },
     "execution_count": 13,
     "metadata": {},
     "output_type": "execute_result"
    },
    {
     "data": {
      "image/png": "[encoded data removed]",
      "text/plain": [
       "<Figure size 432x288 with 1 Axes>"
      ]
     },
     "metadata": {
      "needs_background": "light"
     },
     "output_type": "display_data"
    }
   ],
   "source": [
    "sns.countplot(\"class\", data=hate_df)"
   ]
  },
  {
   "cell_type": "code",
   "execution_count": 14,
   "metadata": {
    "execution": {
     "iopub.execute_input": "2022-01-04T19:15:05.547601Z",
     "iopub.status.busy": "2022-01-04T19:15:05.546624Z",
     "iopub.status.idle": "2022-01-04T19:15:05.554109Z",
     "shell.execute_reply": "2022-01-04T19:15:05.553254Z",
     "shell.execute_reply.started": "2022-01-04T19:15:05.547558Z"
    }
   },
   "outputs": [],
   "source": [
    "hate_df[\"class\"] = hate_df[\"class\"].replace({0:1, 2:0})"
   ]
  },
  {
   "cell_type": "code",
   "execution_count": 15,
   "metadata": {
    "execution": {
     "iopub.execute_input": "2022-01-04T19:15:05.556330Z",
     "iopub.status.busy": "2022-01-04T19:15:05.555735Z",
     "iopub.status.idle": "2022-01-04T19:15:05.568518Z",
     "shell.execute_reply": "2022-01-04T19:15:05.567515Z",
     "shell.execute_reply.started": "2022-01-04T19:15:05.556289Z"
    }
   },
   "outputs": [
    {
     "data": {
      "text/html": [
       "<div>\n",
       "<style scoped>\n",
       "    .dataframe tbody tr th:only-of-type {\n",
       "        vertical-align: middle;\n",
       "    }\n",
       "\n",
       "    .dataframe tbody tr th {\n",
       "        vertical-align: top;\n",
       "    }\n",
       "\n",
       "    .dataframe thead th {\n",
       "        text-align: right;\n",
       "    }\n",
       "</style>\n",
       "<table border=\"1\" class=\"dataframe\">\n",
       "  <thead>\n",
       "    <tr style=\"text-align: right;\">\n",
       "      <th></th>\n",
       "      <th>class</th>\n",
       "      <th>tweet</th>\n",
       "    </tr>\n",
       "  </thead>\n",
       "  <tbody>\n",
       "    <tr>\n",
       "      <th>0</th>\n",
       "      <td>0</td>\n",
       "      <td>!!! RT @mayasolovely: As a woman you shouldn't...</td>\n",
       "    </tr>\n",
       "    <tr>\n",
       "      <th>1</th>\n",
       "      <td>1</td>\n",
       "      <td>!!!!! RT @mleew17: boy dats cold...tyga dwn ba...</td>\n",
       "    </tr>\n",
       "    <tr>\n",
       "      <th>2</th>\n",
       "      <td>1</td>\n",
       "      <td>!!!!!!! RT @UrKindOfBrand Dawg!!!! RT @80sbaby...</td>\n",
       "    </tr>\n",
       "    <tr>\n",
       "      <th>3</th>\n",
       "      <td>1</td>\n",
       "      <td>!!!!!!!!! RT @C_G_Anderson: @viva_based she lo...</td>\n",
       "    </tr>\n",
       "    <tr>\n",
       "      <th>4</th>\n",
       "      <td>1</td>\n",
       "      <td>!!!!!!!!!!!!! RT @ShenikaRoberts: The shit you...</td>\n",
       "    </tr>\n",
       "  </tbody>\n",
       "</table>\n",
       "</div>"
      ],
      "text/plain": [
       "   class                                              tweet\n",
       "0      0  !!! RT @mayasolovely: As a woman you shouldn't...\n",
       "1      1  !!!!! RT @mleew17: boy dats cold...tyga dwn ba...\n",
       "2      1  !!!!!!! RT @UrKindOfBrand Dawg!!!! RT @80sbaby...\n",
       "3      1  !!!!!!!!! RT @C_G_Anderson: @viva_based she lo...\n",
       "4      1  !!!!!!!!!!!!! RT @ShenikaRoberts: The shit you..."
      ]
     },
     "execution_count": 15,
     "metadata": {},
     "output_type": "execute_result"
    }
   ],
   "source": [
    "hate_df.head()"
   ]
  },
  {
   "cell_type": "code",
   "execution_count": 16,
   "metadata": {
    "execution": {
     "iopub.execute_input": "2022-01-04T19:15:05.572454Z",
     "iopub.status.busy": "2022-01-04T19:15:05.571838Z",
     "iopub.status.idle": "2022-01-04T19:15:05.580619Z",
     "shell.execute_reply": "2022-01-04T19:15:05.579794Z",
     "shell.execute_reply.started": "2022-01-04T19:15:05.572415Z"
    }
   },
   "outputs": [
    {
     "data": {
      "text/plain": [
       "array([0, 1], dtype=int64)"
      ]
     },
     "execution_count": 16,
     "metadata": {},
     "output_type": "execute_result"
    }
   ],
   "source": [
    "hate_df[\"class\"].unique()"
   ]
  },
  {
   "cell_type": "code",
   "execution_count": 17,
   "metadata": {
    "execution": {
     "iopub.execute_input": "2022-01-04T19:15:05.582628Z",
     "iopub.status.busy": "2022-01-04T19:15:05.582278Z",
     "iopub.status.idle": "2022-01-04T19:15:05.764195Z",
     "shell.execute_reply": "2022-01-04T19:15:05.763503Z",
     "shell.execute_reply.started": "2022-01-04T19:15:05.582580Z"
    }
   },
   "outputs": [
    {
     "name": "stderr",
     "output_type": "stream",
     "text": [
      "C:\\Users\\Fakeha Rahman\\anaconda3\\lib\\site-packages\\seaborn\\_decorators.py:36: FutureWarning: Pass the following variable as a keyword arg: x. From version 0.12, the only valid positional argument will be `data`, and passing other arguments without an explicit keyword will result in an error or misinterpretation.\n",
      "  warnings.warn(\n"
     ]
    },
    {
     "data": {
      "text/plain": [
       "<AxesSubplot:xlabel='class', ylabel='count'>"
      ]
     },
     "execution_count": 17,
     "metadata": {},
     "output_type": "execute_result"
    },
    {
     "data": {
      "image/png": "[encoded data removed]",
      "text/plain": [
       "<Figure size 432x288 with 1 Axes>"
      ]
     },
     "metadata": {
      "needs_background": "light"
     },
     "output_type": "display_data"
    }
   ],
   "source": [
    "sns.countplot(\"class\", data=hate_df) #0 is non offensice and 1 is offensive"
   ]
  },
  {
   "cell_type": "code",
   "execution_count": 18,
   "metadata": {
    "execution": {
     "iopub.execute_input": "2022-01-04T19:15:05.766055Z",
     "iopub.status.busy": "2022-01-04T19:15:05.765230Z",
     "iopub.status.idle": "2022-01-04T19:15:05.771500Z",
     "shell.execute_reply": "2022-01-04T19:15:05.770820Z",
     "shell.execute_reply.started": "2022-01-04T19:15:05.766018Z"
    }
   },
   "outputs": [],
   "source": [
    "hate_df=hate_df.rename(columns={\"class\": \"label\"})"
   ]
  },
  {
   "cell_type": "code",
   "execution_count": 19,
   "metadata": {
    "execution": {
     "iopub.execute_input": "2022-01-04T19:15:05.773305Z",
     "iopub.status.busy": "2022-01-04T19:15:05.773009Z",
     "iopub.status.idle": "2022-01-04T19:15:05.785437Z",
     "shell.execute_reply": "2022-01-04T19:15:05.784698Z",
     "shell.execute_reply.started": "2022-01-04T19:15:05.773270Z"
    }
   },
   "outputs": [
    {
     "data": {
      "text/html": [
       "<div>\n",
       "<style scoped>\n",
       "    .dataframe tbody tr th:only-of-type {\n",
       "        vertical-align: middle;\n",
       "    }\n",
       "\n",
       "    .dataframe tbody tr th {\n",
       "        vertical-align: top;\n",
       "    }\n",
       "\n",
       "    .dataframe thead th {\n",
       "        text-align: right;\n",
       "    }\n",
       "</style>\n",
       "<table border=\"1\" class=\"dataframe\">\n",
       "  <thead>\n",
       "    <tr style=\"text-align: right;\">\n",
       "      <th></th>\n",
       "      <th>label</th>\n",
       "      <th>tweet</th>\n",
       "    </tr>\n",
       "  </thead>\n",
       "  <tbody>\n",
       "    <tr>\n",
       "      <th>0</th>\n",
       "      <td>0</td>\n",
       "      <td>@user when a father is dysfunctional and is s...</td>\n",
       "    </tr>\n",
       "    <tr>\n",
       "      <th>1</th>\n",
       "      <td>0</td>\n",
       "      <td>@user @user thanks for #lyft credit i can't us...</td>\n",
       "    </tr>\n",
       "    <tr>\n",
       "      <th>2</th>\n",
       "      <td>0</td>\n",
       "      <td>bihday your majesty</td>\n",
       "    </tr>\n",
       "    <tr>\n",
       "      <th>3</th>\n",
       "      <td>0</td>\n",
       "      <td>#model   i love u take with u all the time in ...</td>\n",
       "    </tr>\n",
       "    <tr>\n",
       "      <th>4</th>\n",
       "      <td>0</td>\n",
       "      <td>factsguide: society now    #motivation</td>\n",
       "    </tr>\n",
       "  </tbody>\n",
       "</table>\n",
       "</div>"
      ],
      "text/plain": [
       "   label                                              tweet\n",
       "0      0   @user when a father is dysfunctional and is s...\n",
       "1      0  @user @user thanks for #lyft credit i can't us...\n",
       "2      0                                bihday your majesty\n",
       "3      0  #model   i love u take with u all the time in ...\n",
       "4      0             factsguide: society now    #motivation"
      ]
     },
     "execution_count": 19,
     "metadata": {},
     "output_type": "execute_result"
    }
   ],
   "source": [
    "twitter_df.head()"
   ]
  },
  {
   "cell_type": "code",
   "execution_count": 20,
   "metadata": {
    "execution": {
     "iopub.execute_input": "2022-01-04T19:15:05.935841Z",
     "iopub.status.busy": "2022-01-04T19:15:05.935157Z",
     "iopub.status.idle": "2022-01-04T19:15:05.947422Z",
     "shell.execute_reply": "2022-01-04T19:15:05.946653Z",
     "shell.execute_reply.started": "2022-01-04T19:15:05.935805Z"
    }
   },
   "outputs": [
    {
     "data": {
      "text/html": [
       "<div>\n",
       "<style scoped>\n",
       "    .dataframe tbody tr th:only-of-type {\n",
       "        vertical-align: middle;\n",
       "    }\n",
       "\n",
       "    .dataframe tbody tr th {\n",
       "        vertical-align: top;\n",
       "    }\n",
       "\n",
       "    .dataframe thead th {\n",
       "        text-align: right;\n",
       "    }\n",
       "</style>\n",
       "<table border=\"1\" class=\"dataframe\">\n",
       "  <thead>\n",
       "    <tr style=\"text-align: right;\">\n",
       "      <th></th>\n",
       "      <th>label</th>\n",
       "      <th>tweet</th>\n",
       "    </tr>\n",
       "  </thead>\n",
       "  <tbody>\n",
       "    <tr>\n",
       "      <th>0</th>\n",
       "      <td>0</td>\n",
       "      <td>!!! RT @mayasolovely: As a woman you shouldn't...</td>\n",
       "    </tr>\n",
       "    <tr>\n",
       "      <th>1</th>\n",
       "      <td>1</td>\n",
       "      <td>!!!!! RT @mleew17: boy dats cold...tyga dwn ba...</td>\n",
       "    </tr>\n",
       "    <tr>\n",
       "      <th>2</th>\n",
       "      <td>1</td>\n",
       "      <td>!!!!!!! RT @UrKindOfBrand Dawg!!!! RT @80sbaby...</td>\n",
       "    </tr>\n",
       "    <tr>\n",
       "      <th>3</th>\n",
       "      <td>1</td>\n",
       "      <td>!!!!!!!!! RT @C_G_Anderson: @viva_based she lo...</td>\n",
       "    </tr>\n",
       "    <tr>\n",
       "      <th>4</th>\n",
       "      <td>1</td>\n",
       "      <td>!!!!!!!!!!!!! RT @ShenikaRoberts: The shit you...</td>\n",
       "    </tr>\n",
       "  </tbody>\n",
       "</table>\n",
       "</div>"
      ],
      "text/plain": [
       "   label                                              tweet\n",
       "0      0  !!! RT @mayasolovely: As a woman you shouldn't...\n",
       "1      1  !!!!! RT @mleew17: boy dats cold...tyga dwn ba...\n",
       "2      1  !!!!!!! RT @UrKindOfBrand Dawg!!!! RT @80sbaby...\n",
       "3      1  !!!!!!!!! RT @C_G_Anderson: @viva_based she lo...\n",
       "4      1  !!!!!!!!!!!!! RT @ShenikaRoberts: The shit you..."
      ]
     },
     "execution_count": 20,
     "metadata": {},
     "output_type": "execute_result"
    }
   ],
   "source": [
    "hate_df.head()"
   ]
  },
  {
   "cell_type": "code",
   "execution_count": 21,
   "metadata": {
    "execution": {
     "iopub.execute_input": "2022-01-04T19:15:07.013435Z",
     "iopub.status.busy": "2022-01-04T19:15:07.012613Z",
     "iopub.status.idle": "2022-01-04T19:15:07.020932Z",
     "shell.execute_reply": "2022-01-04T19:15:07.020137Z",
     "shell.execute_reply.started": "2022-01-04T19:15:07.013394Z"
    }
   },
   "outputs": [],
   "source": [
    "# twitter_df.concat(hate_df)\n",
    "df=pd.concat([twitter_df, hate_df])"
   ]
  },
  {
   "cell_type": "code",
   "execution_count": 22,
   "metadata": {
    "execution": {
     "iopub.execute_input": "2022-01-04T19:15:07.589805Z",
     "iopub.status.busy": "2022-01-04T19:15:07.589505Z",
     "iopub.status.idle": "2022-01-04T19:15:07.599445Z",
     "shell.execute_reply": "2022-01-04T19:15:07.598728Z",
     "shell.execute_reply.started": "2022-01-04T19:15:07.589773Z"
    }
   },
   "outputs": [
    {
     "data": {
      "text/html": [
       "<div>\n",
       "<style scoped>\n",
       "    .dataframe tbody tr th:only-of-type {\n",
       "        vertical-align: middle;\n",
       "    }\n",
       "\n",
       "    .dataframe tbody tr th {\n",
       "        vertical-align: top;\n",
       "    }\n",
       "\n",
       "    .dataframe thead th {\n",
       "        text-align: right;\n",
       "    }\n",
       "</style>\n",
       "<table border=\"1\" class=\"dataframe\">\n",
       "  <thead>\n",
       "    <tr style=\"text-align: right;\">\n",
       "      <th></th>\n",
       "      <th>label</th>\n",
       "      <th>tweet</th>\n",
       "    </tr>\n",
       "  </thead>\n",
       "  <tbody>\n",
       "    <tr>\n",
       "      <th>0</th>\n",
       "      <td>0</td>\n",
       "      <td>@user when a father is dysfunctional and is s...</td>\n",
       "    </tr>\n",
       "    <tr>\n",
       "      <th>1</th>\n",
       "      <td>0</td>\n",
       "      <td>@user @user thanks for #lyft credit i can't us...</td>\n",
       "    </tr>\n",
       "    <tr>\n",
       "      <th>2</th>\n",
       "      <td>0</td>\n",
       "      <td>bihday your majesty</td>\n",
       "    </tr>\n",
       "    <tr>\n",
       "      <th>3</th>\n",
       "      <td>0</td>\n",
       "      <td>#model   i love u take with u all the time in ...</td>\n",
       "    </tr>\n",
       "    <tr>\n",
       "      <th>4</th>\n",
       "      <td>0</td>\n",
       "      <td>factsguide: society now    #motivation</td>\n",
       "    </tr>\n",
       "  </tbody>\n",
       "</table>\n",
       "</div>"
      ],
      "text/plain": [
       "   label                                              tweet\n",
       "0      0   @user when a father is dysfunctional and is s...\n",
       "1      0  @user @user thanks for #lyft credit i can't us...\n",
       "2      0                                bihday your majesty\n",
       "3      0  #model   i love u take with u all the time in ...\n",
       "4      0             factsguide: society now    #motivation"
      ]
     },
     "execution_count": 22,
     "metadata": {},
     "output_type": "execute_result"
    }
   ],
   "source": [
    "df.head()"
   ]
  },
  {
   "cell_type": "code",
   "execution_count": 23,
   "metadata": {
    "execution": {
     "iopub.execute_input": "2022-01-04T19:15:07.643090Z",
     "iopub.status.busy": "2022-01-04T19:15:07.642708Z",
     "iopub.status.idle": "2022-01-04T19:15:07.832028Z",
     "shell.execute_reply": "2022-01-04T19:15:07.831349Z",
     "shell.execute_reply.started": "2022-01-04T19:15:07.643059Z"
    }
   },
   "outputs": [
    {
     "name": "stderr",
     "output_type": "stream",
     "text": [
      "C:\\Users\\Fakeha Rahman\\anaconda3\\lib\\site-packages\\seaborn\\_decorators.py:36: FutureWarning: Pass the following variable as a keyword arg: x. From version 0.12, the only valid positional argument will be `data`, and passing other arguments without an explicit keyword will result in an error or misinterpretation.\n",
      "  warnings.warn(\n"
     ]
    },
    {
     "data": {
      "text/plain": [
       "<AxesSubplot:xlabel='label', ylabel='count'>"
      ]
     },
     "execution_count": 23,
     "metadata": {},
     "output_type": "execute_result"
    },
    {
     "data": {
      "image/png": "[encoded data removed]",
      "text/plain": [
       "<Figure size 432x288 with 1 Axes>"
      ]
     },
     "metadata": {
      "needs_background": "light"
     },
     "output_type": "display_data"
    }
   ],
   "source": [
    "sns.countplot(\"label\", data=df)"
   ]
  },
  {
   "cell_type": "code",
   "execution_count": 24,
   "metadata": {
    "execution": {
     "iopub.execute_input": "2022-01-04T19:15:08.455396Z",
     "iopub.status.busy": "2022-01-04T19:15:08.455121Z",
     "iopub.status.idle": "2022-01-04T19:15:08.460584Z",
     "shell.execute_reply": "2022-01-04T19:15:08.459852Z",
     "shell.execute_reply.started": "2022-01-04T19:15:08.455357Z"
    }
   },
   "outputs": [
    {
     "data": {
      "text/plain": [
       "(56745, 2)"
      ]
     },
     "execution_count": 24,
     "metadata": {},
     "output_type": "execute_result"
    }
   ],
   "source": [
    "df.shape"
   ]
  },
  {
   "cell_type": "code",
   "execution_count": 25,
   "metadata": {
    "execution": {
     "iopub.execute_input": "2022-01-04T19:15:09.046779Z",
     "iopub.status.busy": "2022-01-04T19:15:09.046246Z",
     "iopub.status.idle": "2022-01-04T19:15:09.053655Z",
     "shell.execute_reply": "2022-01-04T19:15:09.052883Z",
     "shell.execute_reply.started": "2022-01-04T19:15:09.046726Z"
    }
   },
   "outputs": [
    {
     "data": {
      "text/plain": [
       "0"
      ]
     },
     "execution_count": 25,
     "metadata": {},
     "output_type": "execute_result"
    }
   ],
   "source": [
    "df[\"label\"].isnull().sum()"
   ]
  },
  {
   "cell_type": "code",
   "execution_count": 26,
   "metadata": {
    "execution": {
     "iopub.execute_input": "2022-01-04T19:15:09.088534Z",
     "iopub.status.busy": "2022-01-04T19:15:09.088345Z",
     "iopub.status.idle": "2022-01-04T19:15:09.094252Z",
     "shell.execute_reply": "2022-01-04T19:15:09.093309Z",
     "shell.execute_reply.started": "2022-01-04T19:15:09.088513Z"
    }
   },
   "outputs": [
    {
     "data": {
      "text/plain": [
       "'#sukhbir #badal announces office-bearers of   west coast zone #america and #california  '"
      ]
     },
     "execution_count": 26,
     "metadata": {},
     "output_type": "execute_result"
    }
   ],
   "source": [
    "df.iloc[15600]['tweet']"
   ]
  },
  {
   "cell_type": "code",
   "execution_count": 27,
   "metadata": {
    "execution": {
     "iopub.execute_input": "2022-01-04T19:15:09.116166Z",
     "iopub.status.busy": "2022-01-04T19:15:09.115892Z",
     "iopub.status.idle": "2022-01-04T19:15:09.119329Z",
     "shell.execute_reply": "2022-01-04T19:15:09.118700Z",
     "shell.execute_reply.started": "2022-01-04T19:15:09.116141Z"
    }
   },
   "outputs": [],
   "source": [
    "# testing = df.iloc[503]['tweet'].decode(\"utf-8-sig\")\n",
    "# testing"
   ]
  },
  {
   "cell_type": "code",
   "execution_count": 28,
   "metadata": {
    "execution": {
     "iopub.execute_input": "2022-01-04T19:15:09.158962Z",
     "iopub.status.busy": "2022-01-04T19:15:09.157643Z",
     "iopub.status.idle": "2022-01-04T19:15:09.167922Z",
     "shell.execute_reply": "2022-01-04T19:15:09.165935Z",
     "shell.execute_reply.started": "2022-01-04T19:15:09.158925Z"
    }
   },
   "outputs": [],
   "source": [
    "import re\n",
    "from nltk.corpus import stopwords\n",
    "import string\n",
    "from nltk.stem.snowball import SnowballStemmer\n",
    "snow_stemmer = SnowballStemmer(language='english')\n",
    "# from nltk.tokenize import WordPunctTokenizer\n",
    "# tok = WordPunctTokenizer()"
   ]
  },
  {
   "cell_type": "code",
   "execution_count": 29,
   "metadata": {
    "execution": {
     "iopub.execute_input": "2022-01-04T19:15:09.206490Z",
     "iopub.status.busy": "2022-01-04T19:15:09.206161Z",
     "iopub.status.idle": "2022-01-04T19:15:09.211240Z",
     "shell.execute_reply": "2022-01-04T19:15:09.210511Z",
     "shell.execute_reply.started": "2022-01-04T19:15:09.206462Z"
    }
   },
   "outputs": [
    {
     "name": "stdout",
     "output_type": "stream",
     "text": [
      "['i', 'me', 'my', 'myself', 'we', 'our', 'ours', 'ourselves', 'you', \"you're\", \"you've\", \"you'll\", \"you'd\", 'your', 'yours', 'yourself', 'yourselves', 'he', 'him', 'his', 'himself', 'she', \"she's\", 'her', 'hers', 'herself', 'it', \"it's\", 'its', 'itself', 'they', 'them', 'their', 'theirs', 'themselves', 'what', 'which', 'who', 'whom', 'this', 'that', \"that'll\", 'these', 'those', 'am', 'is', 'are', 'was', 'were', 'be', 'been', 'being', 'have', 'has', 'had', 'having', 'do', 'does', 'did', 'doing', 'a', 'an', 'the', 'and', 'but', 'if', 'or', 'because', 'as', 'until', 'while', 'of', 'at', 'by', 'for', 'with', 'about', 'against', 'between', 'into', 'through', 'during', 'before', 'after', 'above', 'below', 'to', 'from', 'up', 'down', 'in', 'out', 'on', 'off', 'over', 'under', 'again', 'further', 'then', 'once', 'here', 'there', 'when', 'where', 'why', 'how', 'all', 'any', 'both', 'each', 'few', 'more', 'most', 'other', 'some', 'such', 'no', 'nor', 'not', 'only', 'own', 'same', 'so', 'than', 'too', 'very', 's', 't', 'can', 'will', 'just', 'don', \"don't\", 'should', \"should've\", 'now', 'd', 'll', 'm', 'o', 're', 've', 'y', 'ain', 'aren', \"aren't\", 'couldn', \"couldn't\", 'didn', \"didn't\", 'doesn', \"doesn't\", 'hadn', \"hadn't\", 'hasn', \"hasn't\", 'haven', \"haven't\", 'isn', \"isn't\", 'ma', 'mightn', \"mightn't\", 'mustn', \"mustn't\", 'needn', \"needn't\", 'shan', \"shan't\", 'shouldn', \"shouldn't\", 'wasn', \"wasn't\", 'weren', \"weren't\", 'won', \"won't\", 'wouldn', \"wouldn't\"]\n"
     ]
    }
   ],
   "source": [
    "print(stopwords.words('english'))"
   ]
  },
  {
   "cell_type": "code",
   "execution_count": 30,
   "metadata": {
    "execution": {
     "iopub.execute_input": "2022-01-04T19:15:09.827018Z",
     "iopub.status.busy": "2022-01-04T19:15:09.826484Z",
     "iopub.status.idle": "2022-01-04T19:15:09.836057Z",
     "shell.execute_reply": "2022-01-04T19:15:09.833204Z",
     "shell.execute_reply.started": "2022-01-04T19:15:09.826981Z"
    }
   },
   "outputs": [],
   "source": [
    "def clean(text):\n",
    "    text=re.sub(r'@[A-Za-z0-9]+', \"\", text) #removes mentions\n",
    "    text=re.sub(r'https?://[A-Za-z0-9./]+', \"\", text) #removes links\n",
    "    text=re.sub(\"[^a-zA-Z]\", \" \", text) # removes #\n",
    "    text = re.sub('\\n', '', text) # removes new line\n",
    "    text = re.sub('[%s]' % re.escape(string.punctuation), '', text) # remove punctuation marks\n",
    "    text=re.sub(' +', ' ', text) # remove more than on espace\n",
    "    text= text.lower()\n",
    "    text=[word for word in text.split(\" \") if word not in stopwords.words('english') ] #removes stopwrds\n",
    "    text=\" \".join(text)\n",
    "    text=[snow_stemmer.stem(word) for word in text.split(\" \")] # gets root of word\n",
    "    text=\" \".join(text)\n",
    "    return text"
   ]
  },
  {
   "cell_type": "code",
   "execution_count": 31,
   "metadata": {
    "execution": {
     "iopub.execute_input": "2022-01-04T19:15:10.229604Z",
     "iopub.status.busy": "2022-01-04T19:15:10.229363Z",
     "iopub.status.idle": "2022-01-04T19:15:10.240917Z",
     "shell.execute_reply": "2022-01-04T19:15:10.240007Z",
     "shell.execute_reply.started": "2022-01-04T19:15:10.229576Z"
    }
   },
   "outputs": [
    {
     "name": "stdout",
     "output_type": "stream",
     "text": [
      "@user so your intelligence is picking out typos on twitter then giving yourself a congratulations wank because you told em  \n",
      " intellig pick typo twitter give congratul wank told em \n"
     ]
    }
   ],
   "source": [
    "n=6561\n",
    "print(df.iloc[n]['tweet'])\n",
    "print(clean(df.iloc[n]['tweet']))"
   ]
  },
  {
   "cell_type": "code",
   "execution_count": 32,
   "metadata": {
    "execution": {
     "iopub.execute_input": "2022-01-04T19:15:10.831698Z",
     "iopub.status.busy": "2022-01-04T19:15:10.831170Z",
     "iopub.status.idle": "2022-01-04T19:16:52.339956Z",
     "shell.execute_reply": "2022-01-04T19:16:52.339122Z",
     "shell.execute_reply.started": "2022-01-04T19:15:10.831662Z"
    }
   },
   "outputs": [],
   "source": [
    "df[\"tweet\"]=df[\"tweet\"].apply(clean)"
   ]
  },
  {
   "cell_type": "code",
   "execution_count": 33,
   "metadata": {
    "execution": {
     "iopub.execute_input": "2022-01-04T19:16:52.342386Z",
     "iopub.status.busy": "2022-01-04T19:16:52.342057Z",
     "iopub.status.idle": "2022-01-04T19:16:52.351931Z",
     "shell.execute_reply": "2022-01-04T19:16:52.351122Z",
     "shell.execute_reply.started": "2022-01-04T19:16:52.342357Z"
    }
   },
   "outputs": [
    {
     "data": {
      "text/html": [
       "<div>\n",
       "<style scoped>\n",
       "    .dataframe tbody tr th:only-of-type {\n",
       "        vertical-align: middle;\n",
       "    }\n",
       "\n",
       "    .dataframe tbody tr th {\n",
       "        vertical-align: top;\n",
       "    }\n",
       "\n",
       "    .dataframe thead th {\n",
       "        text-align: right;\n",
       "    }\n",
       "</style>\n",
       "<table border=\"1\" class=\"dataframe\">\n",
       "  <thead>\n",
       "    <tr style=\"text-align: right;\">\n",
       "      <th></th>\n",
       "      <th>label</th>\n",
       "      <th>tweet</th>\n",
       "    </tr>\n",
       "  </thead>\n",
       "  <tbody>\n",
       "    <tr>\n",
       "      <th>0</th>\n",
       "      <td>0</td>\n",
       "      <td>father dysfunct selfish drag kid dysfunct run</td>\n",
       "    </tr>\n",
       "    <tr>\n",
       "      <th>1</th>\n",
       "      <td>0</td>\n",
       "      <td>thank lyft credit use caus offer wheelchair v...</td>\n",
       "    </tr>\n",
       "    <tr>\n",
       "      <th>2</th>\n",
       "      <td>0</td>\n",
       "      <td>bihday majesti</td>\n",
       "    </tr>\n",
       "    <tr>\n",
       "      <th>3</th>\n",
       "      <td>0</td>\n",
       "      <td>model love u take u time ur</td>\n",
       "    </tr>\n",
       "    <tr>\n",
       "      <th>4</th>\n",
       "      <td>0</td>\n",
       "      <td>factsguid societi motiv</td>\n",
       "    </tr>\n",
       "  </tbody>\n",
       "</table>\n",
       "</div>"
      ],
      "text/plain": [
       "   label                                              tweet\n",
       "0      0      father dysfunct selfish drag kid dysfunct run\n",
       "1      0   thank lyft credit use caus offer wheelchair v...\n",
       "2      0                                     bihday majesti\n",
       "3      0                       model love u take u time ur \n",
       "4      0                            factsguid societi motiv"
      ]
     },
     "execution_count": 33,
     "metadata": {},
     "output_type": "execute_result"
    }
   ],
   "source": [
    "df.head()"
   ]
  },
  {
   "cell_type": "code",
   "execution_count": 35,
   "metadata": {
    "execution": {
     "iopub.execute_input": "2022-01-04T19:16:52.353914Z",
     "iopub.status.busy": "2022-01-04T19:16:52.353264Z",
     "iopub.status.idle": "2022-01-04T19:16:52.409147Z",
     "shell.execute_reply": "2022-01-04T19:16:52.408397Z",
     "shell.execute_reply.started": "2022-01-04T19:16:52.353875Z"
    }
   },
   "outputs": [],
   "source": [
    "import matplotlib.pyplot as plt\n",
    "from wordcloud import WordCloud, STOPWORDS"
   ]
  },
  {
   "cell_type": "code",
   "execution_count": 36,
   "metadata": {
    "execution": {
     "iopub.execute_input": "2022-01-04T19:16:52.411640Z",
     "iopub.status.busy": "2022-01-04T19:16:52.411388Z",
     "iopub.status.idle": "2022-01-04T19:16:52.829262Z",
     "shell.execute_reply": "2022-01-04T19:16:52.828330Z",
     "shell.execute_reply.started": "2022-01-04T19:16:52.411607Z"
    }
   },
   "outputs": [
    {
     "data": {
      "image/png": "[encoded data removed]",
      "text/plain": [
       "<Figure size 432x288 with 1 Axes>"
      ]
     },
     "metadata": {
      "needs_background": "light"
     },
     "output_type": "display_data"
    }
   ],
   "source": [
    "text = df.loc[df['label']==0, ['tweet']].values  \n",
    "\n",
    "wordcloud = WordCloud().generate(str(text))\n",
    "\n",
    "plt.imshow(wordcloud)\n",
    "plt.axis(\"off\")\n",
    "plt.show()"
   ]
  },
  {
   "cell_type": "code",
   "execution_count": 37,
   "metadata": {
    "execution": {
     "iopub.execute_input": "2022-01-04T19:16:52.831049Z",
     "iopub.status.busy": "2022-01-04T19:16:52.830593Z",
     "iopub.status.idle": "2022-01-04T19:16:52.836575Z",
     "shell.execute_reply": "2022-01-04T19:16:52.835909Z",
     "shell.execute_reply.started": "2022-01-04T19:16:52.831010Z"
    }
   },
   "outputs": [],
   "source": [
    "X=df['tweet']\n",
    "y=df['label']"
   ]
  },
  {
   "cell_type": "code",
   "execution_count": 38,
   "metadata": {
    "execution": {
     "iopub.execute_input": "2022-01-04T19:16:52.842890Z",
     "iopub.status.busy": "2022-01-04T19:16:52.837847Z",
     "iopub.status.idle": "2022-01-04T19:16:52.875166Z",
     "shell.execute_reply": "2022-01-04T19:16:52.874096Z",
     "shell.execute_reply.started": "2022-01-04T19:16:52.842845Z"
    }
   },
   "outputs": [],
   "source": [
    "from sklearn.model_selection import train_test_split\n",
    "X_train, X_test, y_train, y_test = train_test_split(X, y, test_size=0.2)"
   ]
  },
  {
   "cell_type": "code",
   "execution_count": 39,
   "metadata": {
    "execution": {
     "iopub.execute_input": "2022-01-04T19:16:52.877982Z",
     "iopub.status.busy": "2022-01-04T19:16:52.877280Z",
     "iopub.status.idle": "2022-01-04T19:16:57.804615Z",
     "shell.execute_reply": "2022-01-04T19:16:57.803875Z",
     "shell.execute_reply.started": "2022-01-04T19:16:52.877914Z"
    }
   },
   "outputs": [],
   "source": [
    "from tensorflow import keras"
   ]
  },
  {
   "cell_type": "code",
   "execution_count": 40,
   "metadata": {
    "execution": {
     "iopub.execute_input": "2022-01-04T19:16:57.805986Z",
     "iopub.status.busy": "2022-01-04T19:16:57.805714Z",
     "iopub.status.idle": "2022-01-04T19:16:57.810928Z",
     "shell.execute_reply": "2022-01-04T19:16:57.810277Z",
     "shell.execute_reply.started": "2022-01-04T19:16:57.805954Z"
    }
   },
   "outputs": [],
   "source": [
    "from tensorflow.keras.models import Model\n",
    "from tensorflow.keras.layers import LSTM, Activation, Dense, Dropout, Input, Embedding,SpatialDropout1D\n",
    "from tensorflow.keras.optimizers import RMSprop\n",
    "from tensorflow.keras.preprocessing.text import Tokenizer\n",
    "from tensorflow.keras.preprocessing import sequence\n",
    "from tensorflow.keras.utils import to_categorical\n",
    "from tensorflow.keras.callbacks import EarlyStopping\n",
    "from tensorflow.keras.models import Sequential"
   ]
  },
  {
   "cell_type": "code",
   "execution_count": 41,
   "metadata": {
    "execution": {
     "iopub.execute_input": "2022-01-04T19:26:57.414561Z",
     "iopub.status.busy": "2022-01-04T19:26:57.413910Z",
     "iopub.status.idle": "2022-01-04T19:26:57.422682Z",
     "shell.execute_reply": "2022-01-04T19:26:57.421739Z",
     "shell.execute_reply.started": "2022-01-04T19:26:57.414509Z"
    }
   },
   "outputs": [],
   "source": [
    "max_words=50000 #No of distinct words allowed\n",
    "max_len=300 #max len of tweet\n",
    "tokenizer=Tokenizer(num_words=max_words)\n"
   ]
  },
  {
   "cell_type": "code",
   "execution_count": 42,
   "metadata": {
    "execution": {
     "iopub.execute_input": "2022-01-04T19:27:00.676485Z",
     "iopub.status.busy": "2022-01-04T19:27:00.675545Z",
     "iopub.status.idle": "2022-01-04T19:27:01.822547Z",
     "shell.execute_reply": "2022-01-04T19:27:01.821725Z",
     "shell.execute_reply.started": "2022-01-04T19:27:00.676438Z"
    }
   },
   "outputs": [],
   "source": [
    "tokenizer.fit_on_texts(X_train)\n",
    "sequences=tokenizer.texts_to_sequences(X_train)"
   ]
  },
  {
   "cell_type": "code",
   "execution_count": 43,
   "metadata": {
    "execution": {
     "iopub.execute_input": "2022-01-04T20:12:59.491921Z",
     "iopub.status.busy": "2022-01-04T20:12:59.491148Z",
     "iopub.status.idle": "2022-01-04T20:12:59.497494Z",
     "shell.execute_reply": "2022-01-04T20:12:59.496714Z",
     "shell.execute_reply.started": "2022-01-04T20:12:59.491883Z"
    }
   },
   "outputs": [
    {
     "name": "stdout",
     "output_type": "stream",
     "text": [
      "[544, 145, 1, 2082, 5607, 1998, 32]\n"
     ]
    }
   ],
   "source": [
    "print(sequences[0])"
   ]
  },
  {
   "cell_type": "code",
   "execution_count": 44,
   "metadata": {
    "execution": {
     "iopub.execute_input": "2022-01-04T19:16:58.998355Z",
     "iopub.status.busy": "2022-01-04T19:16:58.998091Z",
     "iopub.status.idle": "2022-01-04T19:16:59.303234Z",
     "shell.execute_reply": "2022-01-04T19:16:59.302494Z",
     "shell.execute_reply.started": "2022-01-04T19:16:58.998324Z"
    }
   },
   "outputs": [],
   "source": [
    "sequence_matrix=sequence.pad_sequences(sequences, maxlen=max_len)"
   ]
  },
  {
   "cell_type": "code",
   "execution_count": 45,
   "metadata": {
    "execution": {
     "iopub.execute_input": "2022-01-04T19:16:59.304888Z",
     "iopub.status.busy": "2022-01-04T19:16:59.304609Z",
     "iopub.status.idle": "2022-01-04T19:17:01.966075Z",
     "shell.execute_reply": "2022-01-04T19:17:01.965382Z",
     "shell.execute_reply.started": "2022-01-04T19:16:59.304855Z"
    }
   },
   "outputs": [
    {
     "name": "stdout",
     "output_type": "stream",
     "text": [
      "WARNING:tensorflow:Layer lstm will not use cuDNN kernels since it doesn't meet the criteria. It will use a generic GPU kernel as fallback when running on GPU.\n",
      "Model: \"sequential\"\n",
      "_________________________________________________________________\n",
      " Layer (type)                Output Shape              Param #   \n",
      "=================================================================\n",
      " embedding (Embedding)       (None, 300, 100)          5000000   \n",
      "                                                                 \n",
      " spatial_dropout1d (SpatialD  (None, 300, 100)         0         \n",
      " ropout1D)                                                       \n",
      "                                                                 \n",
      " lstm (LSTM)                 (None, 100)               80400     \n",
      "                                                                 \n",
      " dense (Dense)               (None, 1)                 101       \n",
      "                                                                 \n",
      "=================================================================\n",
      "Total params: 5,080,501\n",
      "Trainable params: 5,080,501\n",
      "Non-trainable params: 0\n",
      "_________________________________________________________________\n"
     ]
    }
   ],
   "source": [
    "model=Sequential()\n",
    "model.add(Embedding(max_words, 100, input_length=max_len))\n",
    "model.add(SpatialDropout1D(0.2))\n",
    "model.add(LSTM(100, dropout=0.2, recurrent_dropout=0.2))\n",
    "model.add(Dense(1, activation=\"sigmoid\"))\n",
    "model.summary()\n"
   ]
  },
  {
   "cell_type": "code",
   "execution_count": 46,
   "metadata": {
    "execution": {
     "iopub.execute_input": "2022-01-04T19:17:01.967453Z",
     "iopub.status.busy": "2022-01-04T19:17:01.967202Z",
     "iopub.status.idle": "2022-01-04T19:17:01.983963Z",
     "shell.execute_reply": "2022-01-04T19:17:01.983298Z",
     "shell.execute_reply.started": "2022-01-04T19:17:01.967421Z"
    }
   },
   "outputs": [],
   "source": [
    "model.compile(loss='binary_crossentropy',optimizer=RMSprop(),metrics=['accuracy'])\n",
    "# binary crossentropy is for 0,1 output. calculates the distance of value from 0/1.\n",
    "# RMSprop - moving average of the gradient i.e closer values have more weight on the gradient than further back"
   ]
  },
  {
   "cell_type": "code",
   "execution_count": 50,
   "metadata": {
    "execution": {
     "iopub.execute_input": "2022-01-04T19:17:01.985425Z",
     "iopub.status.busy": "2022-01-04T19:17:01.985159Z",
     "iopub.status.idle": "2022-01-04T19:17:01.992235Z",
     "shell.execute_reply": "2022-01-04T19:17:01.991498Z",
     "shell.execute_reply.started": "2022-01-04T19:17:01.985392Z"
    }
   },
   "outputs": [],
   "source": [
    "from tensorflow.keras.callbacks import EarlyStopping,ModelCheckpoint\n",
    "\n",
    "stop=EarlyStopping(monitor=\"val_accuracy\",\n",
    "                  patience = 5,\n",
    "                  mode=\"max\")\n",
    "checkpoint=ModelCheckpoint(monitor=\"val_accuracy\",\n",
    "                          mode=\"max\",\n",
    "                          save_weights_only=True,\n",
    "                          filepath=\"./\",\n",
    "                          save_best_only=True)"
   ]
  },
  {
   "cell_type": "code",
   "execution_count": 51,
   "metadata": {
    "execution": {
     "iopub.execute_input": "2022-01-04T19:17:01.994046Z",
     "iopub.status.busy": "2022-01-04T19:17:01.993479Z",
     "iopub.status.idle": "2022-01-04T19:24:12.171660Z",
     "shell.execute_reply": "2022-01-04T19:24:12.171000Z",
     "shell.execute_reply.started": "2022-01-04T19:17:01.994010Z"
    }
   },
   "outputs": [
    {
     "name": "stdout",
     "output_type": "stream",
     "text": [
      "Epoch 1/10\n",
      "71/71 [==============================] - 275s 4s/step - loss: 0.2784 - accuracy: 0.9051 - val_loss: 0.1676 - val_accuracy: 0.9396\n",
      "Epoch 2/10\n",
      "71/71 [==============================] - 246s 3s/step - loss: 0.1342 - accuracy: 0.9547 - val_loss: 0.1408 - val_accuracy: 0.9509\n",
      "Epoch 3/10\n",
      "71/71 [==============================] - 242s 3s/step - loss: 0.1067 - accuracy: 0.9641 - val_loss: 0.1388 - val_accuracy: 0.9506\n",
      "Epoch 4/10\n",
      "71/71 [==============================] - 250s 4s/step - loss: 0.0913 - accuracy: 0.9695 - val_loss: 0.1427 - val_accuracy: 0.9478\n",
      "Epoch 5/10\n",
      "71/71 [==============================] - 403s 6s/step - loss: 0.0825 - accuracy: 0.9727 - val_loss: 0.1435 - val_accuracy: 0.9488\n",
      "Epoch 6/10\n",
      "71/71 [==============================] - 540s 8s/step - loss: 0.0754 - accuracy: 0.9748 - val_loss: 0.1559 - val_accuracy: 0.9454\n",
      "Epoch 7/10\n",
      "71/71 [==============================] - 279s 4s/step - loss: 0.0686 - accuracy: 0.9784 - val_loss: 0.1564 - val_accuracy: 0.9465\n"
     ]
    }
   ],
   "source": [
    "history=model.fit(sequence_matrix, y_train, batch_size=512, epochs=10, validation_split=0.2, callbacks=[stop, checkpoint])"
   ]
  },
  {
   "cell_type": "code",
   "execution_count": 55,
   "metadata": {
    "execution": {
     "iopub.execute_input": "2022-01-04T19:24:12.173240Z",
     "iopub.status.busy": "2022-01-04T19:24:12.172975Z",
     "iopub.status.idle": "2022-01-04T19:24:12.278736Z",
     "shell.execute_reply": "2022-01-04T19:24:12.277986Z",
     "shell.execute_reply.started": "2022-01-04T19:24:12.173207Z"
    }
   },
   "outputs": [],
   "source": [
    "# model.save(\"sentiment analysis.h5\")"
   ]
  },
  {
   "cell_type": "code",
   "execution_count": 56,
   "metadata": {
    "execution": {
     "iopub.execute_input": "2022-01-04T19:27:10.470567Z",
     "iopub.status.busy": "2022-01-04T19:27:10.469827Z",
     "iopub.status.idle": "2022-01-04T19:27:33.296587Z",
     "shell.execute_reply": "2022-01-04T19:27:33.295942Z",
     "shell.execute_reply.started": "2022-01-04T19:27:10.470532Z"
    }
   },
   "outputs": [
    {
     "name": "stdout",
     "output_type": "stream",
     "text": [
      "355/355 [==============================] - 76s 213ms/step - loss: 0.1606 - accuracy: 0.9474\n"
     ]
    },
    {
     "data": {
      "text/plain": [
       "[0.16056837141513824, 0.9473962187767029]"
      ]
     },
     "execution_count": 56,
     "metadata": {},
     "output_type": "execute_result"
    }
   ],
   "source": [
    "test_sequences=tokenizer.texts_to_sequences(X_test)\n",
    "test_sequence_matrix=sequence.pad_sequences(test_sequences, maxlen=max_len)\n",
    "model.evaluate(test_sequence_matrix, y_test)"
   ]
  },
  {
   "cell_type": "code",
   "execution_count": 57,
   "metadata": {
    "execution": {
     "iopub.execute_input": "2022-01-04T19:50:49.580616Z",
     "iopub.status.busy": "2022-01-04T19:50:49.580354Z",
     "iopub.status.idle": "2022-01-04T19:51:10.779752Z",
     "shell.execute_reply": "2022-01-04T19:51:10.778972Z",
     "shell.execute_reply.started": "2022-01-04T19:50:49.580586Z"
    }
   },
   "outputs": [],
   "source": [
    "prediction = model.predict(test_sequence_matrix)\n",
    "res=[]\n",
    "for preds in prediction:\n",
    "    if preds<0.5:\n",
    "        res.append(0)\n",
    "    else:\n",
    "        res.append(1)\n"
   ]
  },
  {
   "cell_type": "code",
   "execution_count": 58,
   "metadata": {
    "execution": {
     "iopub.execute_input": "2022-01-04T20:04:24.304488Z",
     "iopub.status.busy": "2022-01-04T20:04:24.303840Z",
     "iopub.status.idle": "2022-01-04T20:04:24.308979Z",
     "shell.execute_reply": "2022-01-04T20:04:24.307942Z",
     "shell.execute_reply.started": "2022-01-04T20:04:24.304449Z"
    }
   },
   "outputs": [],
   "source": [
    "X_list=X_test.tolist()"
   ]
  },
  {
   "cell_type": "code",
   "execution_count": 59,
   "metadata": {
    "execution": {
     "iopub.execute_input": "2022-01-04T20:04:38.106950Z",
     "iopub.status.busy": "2022-01-04T20:04:38.106665Z",
     "iopub.status.idle": "2022-01-04T20:04:38.111167Z",
     "shell.execute_reply": "2022-01-04T20:04:38.110485Z",
     "shell.execute_reply.started": "2022-01-04T20:04:38.106923Z"
    }
   },
   "outputs": [],
   "source": [
    "y_list=y_test.tolist()"
   ]
  },
  {
   "cell_type": "code",
   "execution_count": 60,
   "metadata": {
    "execution": {
     "iopub.execute_input": "2022-01-04T20:05:07.229362Z",
     "iopub.status.busy": "2022-01-04T20:05:07.228665Z",
     "iopub.status.idle": "2022-01-04T20:05:07.235421Z",
     "shell.execute_reply": "2022-01-04T20:05:07.234656Z",
     "shell.execute_reply.started": "2022-01-04T20:05:07.229328Z"
    }
   },
   "outputs": [
    {
     "name": "stdout",
     "output_type": "stream",
     "text": [
      "rt happi bung hole negat desper guy spew good exampl  1\n",
      " dear versac wont buy yur retail sign pissedoffitalian 1\n",
      "ate isz youuu  0\n",
      "white trash taken everi chariti organ us  1\n",
      " shake bear aka two redneck sex dead bear  1\n"
     ]
    }
   ],
   "source": [
    "k=0\n",
    "for p in range(len(res)):\n",
    "    if res[p] != y_list[p]:\n",
    "        print(X_list[p], y_list[p])\n",
    "        k=k+1\n",
    "    if k==5:\n",
    "        break;"
   ]
  },
  {
   "cell_type": "code",
   "execution_count": 61,
   "metadata": {
    "execution": {
     "iopub.execute_input": "2022-01-04T20:26:07.332788Z",
     "iopub.status.busy": "2022-01-04T20:26:07.332457Z",
     "iopub.status.idle": "2022-01-04T20:26:07.341054Z",
     "shell.execute_reply": "2022-01-04T20:26:07.340203Z",
     "shell.execute_reply.started": "2022-01-04T20:26:07.332721Z"
    }
   },
   "outputs": [
    {
     "name": "stdout",
     "output_type": "stream",
     "text": [
      "['love peopl']\n",
      "[[5, 30]]\n"
     ]
    }
   ],
   "source": [
    "text=\"I love all people\"\n",
    "text=clean(text)\n",
    "text=[text]\n",
    "print(text)\n",
    "text_sequence=tokenizer.texts_to_sequences(text)\n",
    "print(text_sequence)\n",
    "text_sequence_matrix=sequence.pad_sequences(text_sequence, maxlen=max_len)\n"
   ]
  },
  {
   "cell_type": "code",
   "execution_count": 62,
   "metadata": {
    "execution": {
     "iopub.execute_input": "2022-01-04T20:23:19.344283Z",
     "iopub.status.busy": "2022-01-04T20:23:19.343731Z",
     "iopub.status.idle": "2022-01-04T20:23:19.443337Z",
     "shell.execute_reply": "2022-01-04T20:23:19.442659Z",
     "shell.execute_reply.started": "2022-01-04T20:23:19.344250Z"
    }
   },
   "outputs": [],
   "source": [
    "prediction=model.predict(text_sequence_matrix)"
   ]
  },
  {
   "cell_type": "code",
   "execution_count": 63,
   "metadata": {
    "execution": {
     "iopub.execute_input": "2022-01-04T20:23:20.240348Z",
     "iopub.status.busy": "2022-01-04T20:23:20.239924Z",
     "iopub.status.idle": "2022-01-04T20:23:20.247242Z",
     "shell.execute_reply": "2022-01-04T20:23:20.244908Z",
     "shell.execute_reply.started": "2022-01-04T20:23:20.240314Z"
    }
   },
   "outputs": [
    {
     "name": "stdout",
     "output_type": "stream",
     "text": [
      "[[0.0190855]]\n"
     ]
    }
   ],
   "source": [
    "print(prediction)"
   ]
  },
  {
   "cell_type": "code",
   "execution_count": null,
   "metadata": {},
   "outputs": [],
   "source": []
  },
  {
   "cell_type": "code",
   "execution_count": null,
   "metadata": {},
   "outputs": [],
   "source": []
  }
 ],
 "metadata": {
  "kernelspec": {
   "display_name": "Python 3",
   "language": "python",
   "name": "python3"
  },
  "language_info": {
   "codemirror_mode": {
    "name": "ipython",
    "version": 3
   },
   "file_extension": ".py",
   "mimetype": "text/x-python",
   "name": "python",
   "nbconvert_exporter": "python",
   "pygments_lexer": "ipython3",
   "version": "3.8.5"
  }
 },
 "nbformat": 4,
 "nbformat_minor": 4
}
